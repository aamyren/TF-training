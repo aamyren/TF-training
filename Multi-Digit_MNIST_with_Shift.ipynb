{
  "cells": [
    {
      "cell_type": "markdown",
      "metadata": {
        "id": "view-in-github",
        "colab_type": "text"
      },
      "source": [
        "<a href=\"https://colab.research.google.com/github/aamyren/TF-training/blob/main/Multi-Digit_MNIST_with_Shift.ipynb\" target=\"_parent\"><img src=\"https://colab.research.google.com/assets/colab-badge.svg\" alt=\"Open In Colab\"/></a>"
      ]
    },
    {
      "cell_type": "code",
      "execution_count": null,
      "metadata": {
        "colab": {
          "base_uri": "https://localhost:8080/"
        },
        "id": "FgF33dJqpglF",
        "outputId": "6ef68200-e160-4393-94f3-6f2e43e89600"
      },
      "outputs": [
        {
          "output_type": "stream",
          "name": "stdout",
          "text": [
            "TensorFlow version: 2.8.2\n"
          ]
        }
      ],
      "source": [
        "import tensorflow as tf\n",
        "print(\"TensorFlow version:\", tf.__version__)\n",
        "\n",
        "from tensorflow.keras.layers import Dense, Flatten, Conv2D\n",
        "from tensorflow.keras import Model"
      ]
    },
    {
      "cell_type": "code",
      "execution_count": null,
      "metadata": {
        "id": "SE4WN3YK7ALu"
      },
      "outputs": [],
      "source": [
        "# helper libraries\n",
        "import numpy as np\n",
        "import matplotlib.pyplot as plt\n",
        "import random\n",
        "import cv2"
      ]
    },
    {
      "cell_type": "code",
      "execution_count": null,
      "metadata": {
        "id": "nUJG9UScp_nz"
      },
      "outputs": [],
      "source": [
        "mnist = tf.keras.datasets.mnist\n",
        "\n",
        "(x_train, y_train), (x_test, y_test) = mnist.load_data()\n",
        "x_train, x_test = x_train / 255.0, x_test / 255.0\n",
        "\n",
        "# Add a channels dimension\n",
        "x_train = x_train[..., tf.newaxis].astype(\"float32\")\n",
        "x_test = x_test[..., tf.newaxis].astype(\"float32\")\n"
      ]
    },
    {
      "cell_type": "code",
      "source": [
        "x_train.shape"
      ],
      "metadata": {
        "colab": {
          "base_uri": "https://localhost:8080/"
        },
        "id": "U3Lh90kBREKV",
        "outputId": "7b8202f7-6d14-4789-c6f5-196faeccea0f"
      },
      "execution_count": null,
      "outputs": [
        {
          "output_type": "execute_result",
          "data": {
            "text/plain": [
              "(60000, 28, 28, 1)"
            ]
          },
          "metadata": {},
          "execution_count": 92
        }
      ]
    },
    {
      "cell_type": "code",
      "source": [
        "# function to combine two indexes of data in each list\n",
        "def combine(xdata, ydata, a, b):\n",
        "    ny = int(10*ydata[a] + ydata[b])\n",
        "    nx = np.hstack((xdata[a],xdata[b]))\n",
        "    nx = nx[:, ::2]\n",
        "    # print(ny)\n",
        "    return nx, ny"
      ],
      "metadata": {
        "id": "AOPV0VIhR2ih"
      },
      "execution_count": null,
      "outputs": []
    },
    {
      "cell_type": "code",
      "source": [
        "# creates list of random indexes a certain length to combine\n",
        "def randlist(size):\n",
        "    rlist = list(range(size))\n",
        "    random.shuffle(rlist)\n",
        "    return rlist"
      ],
      "metadata": {
        "id": "jZAOCdQ_eK91"
      },
      "execution_count": null,
      "outputs": []
    },
    {
      "cell_type": "code",
      "source": [
        "nx_test = np.empty((1000, 28, 28, 1))\n",
        "ny_test = np.empty(1000)\n",
        "\n",
        "a = randlist(1000)\n",
        "for i in range(0, 1000):\n",
        "    x, y = combine(x_test, y_test, a[i], a[i-1])\n",
        "    ny_test[i] = y \n",
        "    nx_test[i] = x\n",
        "\n",
        "#print(ny_test)\n",
        "\n",
        "nx_train = np.empty((60000, 28, 28, 1))\n",
        "ny_train = np.empty(60000)\n",
        "\n",
        "a = randlist(60000)\n",
        "for i in range(0, 60000):\n",
        "    x, y = combine(x_train, y_train, a[i], a[i-1])\n",
        "    ny_train[i] = y \n",
        "    nx_train[i] = x\n",
        "\n",
        "#print(ny_test)"
      ],
      "metadata": {
        "id": "rR--bIMu7ji5"
      },
      "execution_count": null,
      "outputs": []
    },
    {
      "cell_type": "code",
      "source": [
        "def shift(img):\n",
        "    seed = random.randrange(0,1)\n",
        "\n",
        "    new = np.roll(img, 4, seed)\n",
        "    return new\n",
        "\n",
        "for i in range(1000):\n",
        "    nx_test[i] = shift(nx_test[i])"
      ],
      "metadata": {
        "id": "kZRooASXSg8T"
      },
      "execution_count": null,
      "outputs": []
    },
    {
      "cell_type": "code",
      "execution_count": null,
      "metadata": {
        "id": "o7UDve9zqyFn"
      },
      "outputs": [],
      "source": [
        "train_ds = tf.data.Dataset.from_tensor_slices(\n",
        "    (nx_train, ny_train)).shuffle(10000).batch(32)\n",
        "\n",
        "test_ds = tf.data.Dataset.from_tensor_slices((nx_test, ny_test)).batch(32)"
      ]
    },
    {
      "cell_type": "code",
      "source": [
        "print(ny_train)\n",
        "ny_train[-4]"
      ],
      "metadata": {
        "id": "EJGzVPByufid",
        "colab": {
          "base_uri": "https://localhost:8080/"
        },
        "outputId": "deb86a2b-a0c9-4a58-ccef-9f9c6bd040a1"
      },
      "execution_count": null,
      "outputs": [
        {
          "output_type": "stream",
          "name": "stdout",
          "text": [
            "[71. 97. 39. ... 90. 99. 19.]\n"
          ]
        },
        {
          "output_type": "execute_result",
          "data": {
            "text/plain": [
              "1.0"
            ]
          },
          "metadata": {},
          "execution_count": 102
        }
      ]
    },
    {
      "cell_type": "code",
      "execution_count": null,
      "metadata": {
        "id": "gXqHdsO9rMxq"
      },
      "outputs": [],
      "source": [
        "class MyModel(Model):\n",
        "  def __init__(self):\n",
        "    super(MyModel, self).__init__()\n",
        "    self.conv1 = Conv2D(32, 3, activation='relu')\n",
        "    self.flatten = Flatten()\n",
        "    self.d1 = Dense(128, activation='relu')\n",
        "    self.d2 = Dense(100)\n",
        "\n",
        "  def call(self, x):\n",
        "    x = self.conv1(x)\n",
        "    x = self.flatten(x)\n",
        "    x = self.d1(x)\n",
        "    return self.d2(x)\n",
        "\n",
        "# Create an instance of the model\n",
        "model = MyModel()"
      ]
    },
    {
      "cell_type": "code",
      "execution_count": null,
      "metadata": {
        "id": "p8vB27XrsKeM"
      },
      "outputs": [],
      "source": [
        "loss_object = tf.keras.losses.SparseCategoricalCrossentropy(from_logits=True)\n",
        "\n",
        "optimizer = tf.keras.optimizers.Adam()"
      ]
    },
    {
      "cell_type": "code",
      "execution_count": null,
      "metadata": {
        "id": "-Vdz1lcusVfG"
      },
      "outputs": [],
      "source": [
        "train_loss = tf.keras.metrics.Mean(name='train_loss')\n",
        "train_accuracy = tf.keras.metrics.SparseCategoricalAccuracy(name='train_accuracy')\n",
        "\n",
        "test_loss = tf.keras.metrics.Mean(name='test_loss')\n",
        "test_accuracy = tf.keras.metrics.SparseCategoricalAccuracy(name='test_accuracy')"
      ]
    },
    {
      "cell_type": "code",
      "execution_count": null,
      "metadata": {
        "id": "44dVmgHvsq0F"
      },
      "outputs": [],
      "source": [
        "@tf.function\n",
        "def train_step(images, labels):\n",
        "  with tf.GradientTape() as tape:\n",
        "    # training=True is only needed if there are layers with different\n",
        "    # behavior during training versus inference (e.g. Dropout).\n",
        "    predictions = model(images, training=True)\n",
        "    loss = loss_object(labels, predictions)\n",
        "  gradients = tape.gradient(loss, model.trainable_variables)\n",
        "  optimizer.apply_gradients(zip(gradients, model.trainable_variables))\n",
        "\n",
        "  train_loss(loss)\n",
        "  train_accuracy(labels, predictions)"
      ]
    },
    {
      "cell_type": "code",
      "execution_count": null,
      "metadata": {
        "id": "95bv9CBntPqX"
      },
      "outputs": [],
      "source": [
        "@tf.function\n",
        "def test_step(images, labels):\n",
        "  # training=False is only needed if there are layers with different\n",
        "  # behavior during training versus inference (e.g. Dropout).\n",
        "  predictions = model(images, training=False)\n",
        "  t_loss = loss_object(labels, predictions)\n",
        "\n",
        "  test_loss(t_loss)\n",
        "  test_accuracy(labels, predictions)"
      ]
    },
    {
      "cell_type": "code",
      "execution_count": null,
      "metadata": {
        "id": "BSYuyfiktk43",
        "colab": {
          "base_uri": "https://localhost:8080/"
        },
        "outputId": "e31538e3-e69e-4d81-d2d6-0a568399a80b"
      },
      "outputs": [
        {
          "output_type": "stream",
          "name": "stdout",
          "text": [
            "Epoch 1, Loss: 0.7732685804367065, Accuracy: 78.28166198730469, Test Loss: 6.805253982543945, Test Accuracy: 5.900000095367432\n",
            "Epoch 2, Loss: 0.22296975553035736, Accuracy: 93.27666473388672, Test Loss: 6.36251163482666, Test Accuracy: 10.800000190734863\n",
            "Epoch 3, Loss: 0.1300535351037979, Accuracy: 95.86000061035156, Test Loss: 6.7402777671813965, Test Accuracy: 13.09999942779541\n",
            "Epoch 4, Loss: 0.07958143949508667, Accuracy: 97.46666717529297, Test Loss: 7.314238548278809, Test Accuracy: 14.200000762939453\n",
            "Epoch 5, Loss: 0.052256181836128235, Accuracy: 98.29499816894531, Test Loss: 8.177607536315918, Test Accuracy: 14.5\n"
          ]
        }
      ],
      "source": [
        "EPOCHS = 5\n",
        "\n",
        "for epoch in range(EPOCHS):\n",
        "  # Reset the metrics at the start of the next epoch\n",
        "  train_loss.reset_states()\n",
        "  train_accuracy.reset_states()\n",
        "  test_loss.reset_states()\n",
        "  test_accuracy.reset_states()\n",
        "\n",
        "  for images, labels in train_ds:\n",
        "    train_step(images, labels)\n",
        "\n",
        "  for test_images, test_labels in test_ds:\n",
        "    test_step(test_images, test_labels)\n",
        "\n",
        "  print(\n",
        "    f'Epoch {epoch + 1}, '\n",
        "    f'Loss: {train_loss.result()}, '\n",
        "    f'Accuracy: {train_accuracy.result() * 100}, '\n",
        "    f'Test Loss: {test_loss.result()}, '\n",
        "    f'Test Accuracy: {test_accuracy.result() * 100}'\n",
        "  )"
      ]
    },
    {
      "cell_type": "code",
      "source": [
        "# The test accuracy is much lower from the shifted data because the neural network is initially only trained on the centered images. \n",
        "# The shifted/cropped test images have not been trained with the network and are therefore more difficult to read."
      ],
      "metadata": {
        "id": "GGkHB9e1cJAU"
      },
      "execution_count": null,
      "outputs": []
    },
    {
      "cell_type": "code",
      "source": [
        "nx_train = np.resize(nx_train, (6000, 28, 28))\n",
        "plt.figure()\n",
        "plt.imshow(nx_train[1000], cmap = plt.cm.binary)"
      ],
      "metadata": {
        "colab": {
          "base_uri": "https://localhost:8080/",
          "height": 282
        },
        "id": "9ffa73JiMRfx",
        "outputId": "7acf4368-7909-4c57-8534-f374995f1977"
      },
      "execution_count": null,
      "outputs": [
        {
          "output_type": "execute_result",
          "data": {
            "text/plain": [
              "<matplotlib.image.AxesImage at 0x7f238a292290>"
            ]
          },
          "metadata": {},
          "execution_count": 109
        },
        {
          "output_type": "display_data",
          "data": {
            "text/plain": [
              "<Figure size 432x288 with 1 Axes>"
            ],
            "image/png": "[encoded data removed]"
          },
          "metadata": {
            "needs_background": "light"
          }
        }
      ]
    },
    {
      "cell_type": "code",
      "source": [
        "nx_train.shape\n"
      ],
      "metadata": {
        "colab": {
          "base_uri": "https://localhost:8080/"
        },
        "id": "RvZHfkckNkEW",
        "outputId": "9d1b6e81-9393-43a2-ee0b-a44f820e258a"
      },
      "execution_count": null,
      "outputs": [
        {
          "output_type": "execute_result",
          "data": {
            "text/plain": [
              "(6000, 28, 28)"
            ]
          },
          "metadata": {},
          "execution_count": 110
        }
      ]
    },
    {
      "cell_type": "code",
      "source": [
        "plt.figure(figsize=(10,10))\n",
        "for i in range(25):\n",
        "    plt.subplot(5,5,i+1)\n",
        "    plt.xticks([])\n",
        "    plt.yticks([])\n",
        "    plt.grid(False)\n",
        "    plt.imshow(nx_train[i], cmap=plt.cm.binary)\n",
        "    plt.xlabel(ny_train[i])\n",
        "plt.show()"
      ],
      "metadata": {
        "colab": {
          "base_uri": "https://localhost:8080/",
          "height": 589
        },
        "id": "tG2awJahN3Xj",
        "outputId": "5429b575-b310-428c-9e85-215c517b32f9"
      },
      "execution_count": null,
      "outputs": [
        {
          "output_type": "display_data",
          "data": {
            "text/plain": [
              "<Figure size 720x720 with 25 Axes>"
            ],
            "image/png": "[encoded data removed]"
          },
          "metadata": {}
        }
      ]
    },
    {
      "cell_type": "code",
      "source": [
        "nx_test = np.resize(nx_test, (6000, 28, 28))\n",
        "\n",
        "plt.figure(figsize=(10,10))\n",
        "for i in range(25):\n",
        "    plt.subplot(5,5,i+1)\n",
        "    plt.xticks([])\n",
        "    plt.yticks([])\n",
        "    plt.grid(False)\n",
        "    plt.imshow(nx_test[i], cmap=plt.cm.binary)\n",
        "    plt.xlabel(ny_test[i])\n",
        "plt.show()"
      ],
      "metadata": {
        "colab": {
          "base_uri": "https://localhost:8080/",
          "height": 589
        },
        "id": "5R3pZptMPQ5a",
        "outputId": "7db0ae13-842a-42dc-8da5-5aa957435b82"
      },
      "execution_count": null,
      "outputs": [
        {
          "output_type": "display_data",
          "data": {
            "text/plain": [
              "<Figure size 720x720 with 25 Axes>"
            ],
            "image/png": "[encoded data removed]"
          },
          "metadata": {}
        }
      ]
    }
  ],
  "metadata": {
    "colab": {
      "collapsed_sections": [],
      "provenance": [],
      "authorship_tag": "ABX9TyOEqv00mnUSolsi222NFeFq",
      "include_colab_link": true
    },
    "kernelspec": {
      "display_name": "Python 3",
      "name": "python3"
    },
    "language_info": {
      "name": "python"
    }
  },
  "nbformat": 4,
  "nbformat_minor": 0
}