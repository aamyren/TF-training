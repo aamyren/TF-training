{
  "nbformat": 4,
  "nbformat_minor": 0,
  "metadata": {
    "colab": {
      "provenance": [],
      "collapsed_sections": [],
      "include_colab_link": true
    },
    "kernelspec": {
      "name": "python3",
      "display_name": "Python 3"
    },
    "language_info": {
      "name": "python"
    }
  },
  "cells": [
    {
      "cell_type": "markdown",
      "metadata": {
        "id": "view-in-github",
        "colab_type": "text"
      },
      "source": [
        "<a href=\"https://colab.research.google.com/github/aamyren/TF-training/blob/main/Strided-MNIST.ipynb\" target=\"_parent\"><img src=\"https://colab.research.google.com/assets/colab-badge.svg\" alt=\"Open In Colab\"/></a>"
      ]
    },
    {
      "cell_type": "code",
      "execution_count": null,
      "metadata": {
        "colab": {
          "base_uri": "https://localhost:8080/"
        },
        "id": "FgF33dJqpglF",
        "outputId": "18e48e62-78fc-48c6-ea0d-9f539ea9a097"
      },
      "outputs": [
        {
          "output_type": "stream",
          "name": "stdout",
          "text": [
            "TensorFlow version: 2.8.2\n"
          ]
        }
      ],
      "source": [
        "import tensorflow as tf\n",
        "print(\"TensorFlow version:\", tf.__version__)\n",
        "\n",
        "from tensorflow.keras.layers import Dense, Flatten, Conv2D\n",
        "from tensorflow.keras import Model"
      ]
    },
    {
      "cell_type": "code",
      "source": [
        "import numpy as np\n",
        "import matplotlib.pyplot as plt\n",
        "import random"
      ],
      "metadata": {
        "id": "gcn5qOmXYvfT"
      },
      "execution_count": null,
      "outputs": []
    },
    {
      "cell_type": "code",
      "source": [
        "mnist = tf.keras.datasets.mnist\n",
        "\n",
        "(x_train, y_train), (x_test, y_test) = mnist.load_data()\n",
        "x_train, x_test = x_train / 255.0, x_test / 255.0\n",
        "\n",
        "# Add a channels dimension\n",
        "x_train = x_train[..., tf.newaxis].astype(\"float32\")\n",
        "x_test = x_test[..., tf.newaxis].astype(\"float32\")"
      ],
      "metadata": {
        "id": "nUJG9UScp_nz",
        "colab": {
          "base_uri": "https://localhost:8080/"
        },
        "outputId": "76aa6023-4663-4231-c795-2366555e0eaf"
      },
      "execution_count": null,
      "outputs": [
        {
          "output_type": "stream",
          "name": "stdout",
          "text": [
            "Downloading data from https://storage.googleapis.com/tensorflow/tf-keras-datasets/mnist.npz\n",
            "11493376/11490434 [==============================] - 0s 0us/step\n",
            "11501568/11490434 [==============================] - 0s 0us/step\n"
          ]
        }
      ]
    },
    {
      "cell_type": "code",
      "source": [
        "# adds some background data to training\n",
        "\n",
        "# nx_train contains 30000 severely cropped and 30000 blank images to add to the training dataset\n",
        "# ----------> maybe increase this later\n",
        "nx_train = np.empty((60000,28,28,1))\n",
        "# all 40000 of these images need labels\n",
        "ny_train = np.empty(60000)\n",
        "\n",
        "# function to shift the image so that it is cropped\n",
        "def shifty(img):\n",
        "    seed = random.randrange(10,18)\n",
        "    new = np.roll(img, seed, axis = 0)\n",
        "    return new\n",
        "    \n",
        "def shiftx(img):\n",
        "    seed = random.randrange(10,18)\n",
        "    new = np.roll(img, seed, axis = 1)\n",
        "    #seed = random.randrange(84900000, 85000000)\n",
        "    #new = np.roll(img, -15, axis=1)\n",
        "    #new = np.roll(img, seed)\n",
        "    return new\n",
        "\n",
        "def shiftxy(img):\n",
        "    seed = random.randrange(10,18)\n",
        "    new = np.roll(img, seed, axis = (1,0))\n",
        "    seed = random.randrange(10,18)\n",
        "    new = np.roll(img, seed, axis = (0,1))\n",
        "    return new\n",
        "\n",
        "# changes the value of the first 60000 images to have a value \"digit\"\n",
        "for i in range(60000):\n",
        "    y_train[i] = 2\n",
        "\n",
        "# cropped images correspond to class label 0\n",
        "for i in range(30000):\n",
        "    ny_train[i] = 0\n",
        "\n",
        "# blank images correspond to class label 1\n",
        "for i in range(30000, 60000):\n",
        "    ny_train[i] = 1\n",
        "\n",
        "# changes the first 30000 images in nx_train to be cropped, the rest are blank\n",
        "for i in range(10000):\n",
        "    nx_train[i] = shifty(x_train[i])\n",
        "    #nx_train[i] = shiftx(x_train[i])\n",
        "\n",
        "for i in range(10000,20000):\n",
        "    nx_train[i] = shiftx(x_train[i])\n",
        "    #nx_train[i] = shiftx(x_train[i])\n",
        "\n",
        "for i in range(20000,30000):\n",
        "    nx_train[i] = shiftxy(x_train[i])\n",
        "    #nx_train[i] = shiftx(x_train[i])\n",
        "\n",
        "# adjust how much data from the \"digit\" class we want to keep\n",
        "mx_train = []\n",
        "my_train = []\n",
        "for i in range(30000):\n",
        "    mx_train.append(x_train[i])\n",
        "    my_train.append(y_train[i])\n",
        "\n",
        "#print(y_train)\n",
        "#print(ny_train)\n",
        "#y_train.shape\n",
        "#ny_train.shape"
      ],
      "metadata": {
        "id": "mM05IRDLYgwy"
      },
      "execution_count": null,
      "outputs": []
    },
    {
      "cell_type": "code",
      "source": [
        "# adds some background data to test data\n",
        "\n",
        "# the 10000 test images should all be considered \"digits\"\n",
        "for i in range(10000):\n",
        "    y_test[i] = 1\n",
        "\n",
        "x_test.shape\n",
        "y_test.shape\n",
        "\n",
        "# add 9000 non-digits to test\n",
        "nx_test = np.zeros((9000,28,28,1))\n",
        "# all 9000 of these images correspond to \"background\"\n",
        "ny_test = np.zeros(9000)\n",
        "\n",
        "\n",
        "# changes the value of the first 10000 images to have a value \"digit\"\n",
        "for i in range(10000):\n",
        "    y_test[i] = 2\n",
        "\n",
        "# cropped images\n",
        "for i in range(4500):\n",
        "    ny_test[i] = 0\n",
        "# blank\n",
        "for i in range(4500, 9000):\n",
        "    ny_test[i] = 1\n",
        "\n",
        "\n",
        "# changes the first 4500 images in nx_test to be cropped, the rest are blank\n",
        "for i in range(1500):\n",
        "    #nx_test[i] = shift(x_test[i])\n",
        "    nx_test[i] = shifty(x_test[i])\n",
        "\n",
        "for i in range(1500, 3000):\n",
        "    #nx_test[i] = shift(x_test[i])\n",
        "    nx_test[i] = shiftx(x_test[i])\n",
        "\n",
        "for i in range(1500, 4500):\n",
        "    #nx_test[i] = shift(x_test[i])\n",
        "    nx_test[i] = shiftxy(x_test[i])\n",
        "\n",
        "\n",
        "#print(y_test)\n",
        "#print(ny_test)\n",
        "#y_test.shape\n",
        "#ny_test.shape\n",
        "\n"
      ],
      "metadata": {
        "id": "8mFUYTSKhYct"
      },
      "execution_count": null,
      "outputs": []
    },
    {
      "cell_type": "code",
      "source": [
        "nx_train.shape"
      ],
      "metadata": {
        "colab": {
          "base_uri": "https://localhost:8080/"
        },
        "id": "34DQkoRY4qk-",
        "outputId": "1ba9c13a-76c0-4f68-dcea-b2b91029d54b"
      },
      "execution_count": null,
      "outputs": [
        {
          "output_type": "execute_result",
          "data": {
            "text/plain": [
              "(60000, 28, 28, 1)"
            ]
          },
          "metadata": {},
          "execution_count": 6
        }
      ]
    },
    {
      "cell_type": "code",
      "source": [
        "## add the new data into x_train and y_train\n",
        "# nx_train = np.resize(nx_train, (32000, 28, 28,1))\n",
        "\n",
        "mx_train = np.concatenate((mx_train, nx_train))\n",
        "my_train = np.concatenate((my_train, ny_train))\n",
        "\n",
        "#x_train.shape\n",
        "#x_test.shape\n",
        "#y_test.shape"
      ],
      "metadata": {
        "id": "W9u3jCckd9Ce"
      },
      "execution_count": null,
      "outputs": []
    },
    {
      "cell_type": "code",
      "source": [
        "x_test = np.concatenate((x_test, nx_test))\n",
        "y_test = np.concatenate((y_test, ny_test))\n"
      ],
      "metadata": {
        "id": "dCyExPKll66y"
      },
      "execution_count": null,
      "outputs": []
    },
    {
      "cell_type": "code",
      "source": [
        "x_test.shape"
      ],
      "metadata": {
        "colab": {
          "base_uri": "https://localhost:8080/"
        },
        "id": "q5EozkDcQeWN",
        "outputId": "a2d1038f-af04-4c1c-e8b5-3590658fd51c"
      },
      "execution_count": null,
      "outputs": [
        {
          "output_type": "execute_result",
          "data": {
            "text/plain": [
              "(19000, 28, 28, 1)"
            ]
          },
          "metadata": {},
          "execution_count": 9
        }
      ]
    },
    {
      "cell_type": "code",
      "source": [
        "# checking how the cropped images look\n",
        "'''\n",
        "nx_train = np.resize(nx_train, (30000, 28, 28))\n",
        "\n",
        "plt.figure(figsize=(10,10))\n",
        "for i in range(100):\n",
        "    plt.subplot(10,10,i+1)\n",
        "    plt.xticks([])\n",
        "    plt.yticks([])\n",
        "    plt.grid(False)\n",
        "    plt.imshow(nx_train[i], cmap=plt.cm.binary)\n",
        "    plt.xlabel(ny_train[i])\n",
        "plt.show()'''"
      ],
      "metadata": {
        "id": "KYFgyfXCYl6j",
        "colab": {
          "base_uri": "https://localhost:8080/",
          "height": 70
        },
        "outputId": "71ea1b16-c841-479a-d1b3-4cc9f219ab7b"
      },
      "execution_count": null,
      "outputs": [
        {
          "output_type": "execute_result",
          "data": {
            "text/plain": [
              "'\\nnx_train = np.resize(nx_train, (30000, 28, 28))\\n\\nplt.figure(figsize=(10,10))\\nfor i in range(100):\\n    plt.subplot(10,10,i+1)\\n    plt.xticks([])\\n    plt.yticks([])\\n    plt.grid(False)\\n    plt.imshow(nx_train[i], cmap=plt.cm.binary)\\n    plt.xlabel(ny_train[i])\\nplt.show()'"
            ],
            "application/vnd.google.colaboratory.intrinsic+json": {
              "type": "string"
            }
          },
          "metadata": {},
          "execution_count": 10
        }
      ]
    },
    {
      "cell_type": "code",
      "source": [
        "'''nx_train = np.resize(nx_train, (60000, 28, 28))\n",
        "plt.figure()\n",
        "plt.imshow(nx_train[4738], cmap = plt.cm.binary)'''"
      ],
      "metadata": {
        "colab": {
          "base_uri": "https://localhost:8080/",
          "height": 53
        },
        "id": "ZmK_1otnwdRR",
        "outputId": "47f1d40a-5864-407f-bf9b-95451b222882"
      },
      "execution_count": null,
      "outputs": [
        {
          "output_type": "execute_result",
          "data": {
            "text/plain": [
              "'nx_train = np.resize(nx_train, (60000, 28, 28))\\nplt.figure()\\nplt.imshow(nx_train[4738], cmap = plt.cm.binary)'"
            ],
            "application/vnd.google.colaboratory.intrinsic+json": {
              "type": "string"
            }
          },
          "metadata": {},
          "execution_count": 11
        }
      ]
    },
    {
      "cell_type": "code",
      "source": [
        "#nx_train = np.resize(nx_train, (120000, 28, 28, 1))"
      ],
      "metadata": {
        "id": "_Hx7bqkw-8Ym"
      },
      "execution_count": null,
      "outputs": []
    },
    {
      "cell_type": "code",
      "source": [
        "# set up network for the filter, which detects background/digit\n",
        "\n",
        "train_ds = tf.data.Dataset.from_tensor_slices(\n",
        "    (mx_train, my_train)).shuffle(10000).batch(32)\n",
        "\n",
        "test_ds = tf.data.Dataset.from_tensor_slices((x_test, y_test)).batch(32)"
      ],
      "metadata": {
        "id": "o7UDve9zqyFn"
      },
      "execution_count": null,
      "outputs": []
    },
    {
      "cell_type": "code",
      "source": [
        "class Filter(Model):\n",
        "  def __init__(self):\n",
        "    super(Filter, self).__init__()\n",
        "    self.conv1 = Conv2D(32, 3, activation='relu')\n",
        "    self.flatten = Flatten()\n",
        "    self.d1 = Dense(128, activation='relu')\n",
        "    self.d2 = Dense(3)\n",
        "\n",
        "  def call(self, x):\n",
        "    x = self.conv1(x)\n",
        "    x = self.flatten(x)\n",
        "    x = self.d1(x)\n",
        "    return self.d2(x)\n",
        "\n",
        "# Create an instance of the model\n",
        "filter = Filter()"
      ],
      "metadata": {
        "id": "gXqHdsO9rMxq"
      },
      "execution_count": null,
      "outputs": []
    },
    {
      "cell_type": "code",
      "source": [
        "loss_object = tf.keras.losses.SparseCategoricalCrossentropy(from_logits=True)\n",
        "\n",
        "optimizer = tf.keras.optimizers.Adam()"
      ],
      "metadata": {
        "id": "p8vB27XrsKeM"
      },
      "execution_count": null,
      "outputs": []
    },
    {
      "cell_type": "code",
      "source": [
        "train_loss = tf.keras.metrics.Mean(name='train_loss')\n",
        "train_accuracy = tf.keras.metrics.SparseCategoricalAccuracy(name='train_accuracy')\n",
        "\n",
        "test_loss = tf.keras.metrics.Mean(name='test_loss')\n",
        "test_accuracy = tf.keras.metrics.SparseCategoricalAccuracy(name='test_accuracy')"
      ],
      "metadata": {
        "id": "-Vdz1lcusVfG"
      },
      "execution_count": null,
      "outputs": []
    },
    {
      "cell_type": "code",
      "source": [
        "@tf.function\n",
        "def train_step(images, labels):\n",
        "  with tf.GradientTape() as tape:\n",
        "    # training=True is only needed if there are layers with different\n",
        "    # behavior during training versus inference (e.g. Dropout).\n",
        "    predictions = filter(images, training=True)\n",
        "    loss = loss_object(labels, predictions)\n",
        "  gradients = tape.gradient(loss, filter.trainable_variables)\n",
        "  optimizer.apply_gradients(zip(gradients, filter.trainable_variables))\n",
        "\n",
        "  train_loss(loss)\n",
        "  train_accuracy(labels, predictions)"
      ],
      "metadata": {
        "id": "44dVmgHvsq0F"
      },
      "execution_count": null,
      "outputs": []
    },
    {
      "cell_type": "code",
      "source": [
        "@tf.function\n",
        "def test_step(images, labels):\n",
        "  # training=False is only needed if there are layers with different\n",
        "  # behavior during training versus inference (e.g. Dropout).\n",
        "  predictions = filter(images, training=False)\n",
        "  t_loss = loss_object(labels, predictions)\n",
        "\n",
        "  test_loss(t_loss)\n",
        "  test_accuracy(labels, predictions)"
      ],
      "metadata": {
        "id": "95bv9CBntPqX"
      },
      "execution_count": null,
      "outputs": []
    },
    {
      "cell_type": "code",
      "source": [
        "EPOCHS = 5\n",
        "\n",
        "for epoch in range(EPOCHS):\n",
        "  # Reset the metrics at the start of the next epoch\n",
        "  train_loss.reset_states()\n",
        "  train_accuracy.reset_states()\n",
        "  test_loss.reset_states()\n",
        "  test_accuracy.reset_states()\n",
        "\n",
        "  for images, labels in train_ds:\n",
        "    train_step(images, labels)\n",
        "\n",
        "  for test_images, test_labels in test_ds:\n",
        "    test_step(test_images, test_labels)\n",
        "\n",
        "  print(\n",
        "    f'Epoch {epoch + 1}, '\n",
        "    f'Loss: {train_loss.result()}, '\n",
        "    f'Accuracy: {train_accuracy.result() * 100}, '\n",
        "    f'Test Loss: {test_loss.result()}, '\n",
        "    f'Test Accuracy: {test_accuracy.result() * 100}'\n",
        "  )"
      ],
      "metadata": {
        "id": "BSYuyfiktk43",
        "colab": {
          "base_uri": "https://localhost:8080/"
        },
        "outputId": "2abe6765-a030-4d17-99f6-b0b1a740d236"
      },
      "execution_count": null,
      "outputs": [
        {
          "output_type": "stream",
          "name": "stdout",
          "text": [
            "Epoch 1, Loss: 0.006081289146095514, Accuracy: 99.92444610595703, Test Loss: 0.0008889682358130813, Test Accuracy: 99.98420715332031\n",
            "Epoch 2, Loss: 0.0002874603378586471, Accuracy: 99.99444580078125, Test Loss: 0.001814084011130035, Test Accuracy: 99.92631530761719\n",
            "Epoch 3, Loss: 0.00031803984893485904, Accuracy: 99.99221801757812, Test Loss: 0.0021021722350269556, Test Accuracy: 99.98947143554688\n",
            "Epoch 4, Loss: 3.3331489248666912e-06, Accuracy: 100.0, Test Loss: 0.0012924371985718608, Test Accuracy: 99.99473571777344\n",
            "Epoch 5, Loss: 5.399376732384553e-07, Accuracy: 100.0, Test Loss: 0.0014458366204053164, Test Accuracy: 99.99473571777344\n"
          ]
        }
      ]
    },
    {
      "cell_type": "code",
      "source": [
        "# checking predictions\n",
        "\n",
        "#probability_model = tf.keras.Sequential([filter, \n",
        "#                                         tf.keras.layers.Softmax()])"
      ],
      "metadata": {
        "id": "hmodRpHYt3ej"
      },
      "execution_count": null,
      "outputs": []
    },
    {
      "cell_type": "code",
      "source": [
        "#x_test = np.resize(x_test, (15000, 28, 28, 1))\n",
        "#filter_predictions = probability_model.predict(x_test)"
      ],
      "metadata": {
        "id": "vLvBa1a-pUyO"
      },
      "execution_count": null,
      "outputs": []
    },
    {
      "cell_type": "code",
      "source": [
        "#np.argmax(filter_predictions[0])"
      ],
      "metadata": {
        "id": "TB7DM8f3pW2O"
      },
      "execution_count": null,
      "outputs": []
    },
    {
      "cell_type": "code",
      "source": [
        "#x_test = np.resize(x_test, (15000, 28, 28))\n",
        "\n",
        "#plt.figure()\n",
        "#plt.imshow(x_test[43], cmap = plt.cm.binary)\n",
        "\n",
        "#np.argmax(filter_predictions[43])\n",
        "\n",
        "# the network to identify ----digit or background---- has been completed and trained at this point "
      ],
      "metadata": {
        "id": "ljdk8Tclpd-H"
      },
      "execution_count": null,
      "outputs": []
    },
    {
      "cell_type": "code",
      "source": [
        "filter.save_weights('checkpoint_1')"
      ],
      "metadata": {
        "id": "HcQhfLBezJUz"
      },
      "execution_count": null,
      "outputs": []
    },
    {
      "cell_type": "code",
      "source": [
        "# ----Classifier---- neural network begins here"
      ],
      "metadata": {
        "id": "XlmSYHzP5eyT"
      },
      "execution_count": null,
      "outputs": []
    },
    {
      "cell_type": "code",
      "source": [
        "# import mnist data\n",
        "mnist = tf.keras.datasets.mnist\n",
        "\n",
        "(cx_train, cy_train), (cx_test, cy_test) = mnist.load_data()\n",
        "cx_train, cx_test = cx_train / 255.0, cx_test / 255.0\n",
        "\n",
        "# Add a channels dimension\n",
        "cx_train = cx_train[..., tf.newaxis].astype(\"float32\")\n",
        "cx_test = cx_test[..., tf.newaxis].astype(\"float32\")"
      ],
      "metadata": {
        "id": "4aP-6sI_51Jl"
      },
      "execution_count": null,
      "outputs": []
    },
    {
      "cell_type": "code",
      "source": [
        "# set up classifier network to identify the digit, same as problem 1)pt2)\n",
        "train_ds = tf.data.Dataset.from_tensor_slices(\n",
        "    (cx_train, cy_train)).shuffle(10000).batch(32)\n",
        "\n",
        "test_ds = tf.data.Dataset.from_tensor_slices((cx_test, cy_test)).batch(32)"
      ],
      "metadata": {
        "id": "74YXJQBt519l"
      },
      "execution_count": null,
      "outputs": []
    },
    {
      "cell_type": "code",
      "source": [
        "# load weights from the filter network into the classifier network\n",
        "# filter.load_weights('checkpoint_1')"
      ],
      "metadata": {
        "id": "8gB0zMVO6Mi-"
      },
      "execution_count": null,
      "outputs": []
    },
    {
      "cell_type": "code",
      "source": [
        "class Classifier(Model):\n",
        "  def __init__(self):\n",
        "    super(Classifier, self).__init__()\n",
        "    self.conv1 = Conv2D(32, 3, activation='relu')\n",
        "    self.flatten = Flatten()\n",
        "    self.d1 = Dense(128, activation='relu')\n",
        "    self.d2 = Dense(10)\n",
        "\n",
        "  def call(self, x):\n",
        "    x = self.conv1(x)\n",
        "    x = self.flatten(x)\n",
        "    x = self.d1(x)\n",
        "    return self.d2(x)\n",
        "\n",
        "# Create an instance of the model\n",
        "classifier = Classifier()"
      ],
      "metadata": {
        "id": "8HCKmr993IWh"
      },
      "execution_count": null,
      "outputs": []
    },
    {
      "cell_type": "code",
      "source": [
        "loss_object = tf.keras.losses.SparseCategoricalCrossentropy(from_logits=True)\n",
        "\n",
        "optimizer = tf.keras.optimizers.Adam()"
      ],
      "metadata": {
        "id": "CKFZbdwd4Y1P"
      },
      "execution_count": null,
      "outputs": []
    },
    {
      "cell_type": "code",
      "source": [
        "train_loss = tf.keras.metrics.Mean(name='train_loss')\n",
        "train_accuracy = tf.keras.metrics.SparseCategoricalAccuracy(name='train_accuracy')\n",
        "\n",
        "test_loss = tf.keras.metrics.Mean(name='test_loss')\n",
        "test_accuracy = tf.keras.metrics.SparseCategoricalAccuracy(name='test_accuracy')"
      ],
      "metadata": {
        "id": "pwQ-Lplt4anE"
      },
      "execution_count": null,
      "outputs": []
    },
    {
      "cell_type": "code",
      "source": [
        "@tf.function\n",
        "def train_step(images, labels):\n",
        "  with tf.GradientTape() as tape:\n",
        "    # training=True is only needed if there are layers with different\n",
        "    # behavior during training versus inference (e.g. Dropout).\n",
        "    predictions = classifier(images, training=True)\n",
        "    loss = loss_object(labels, predictions)\n",
        "  gradients = tape.gradient(loss, classifier.trainable_variables)\n",
        "  optimizer.apply_gradients(zip(gradients, classifier.trainable_variables))\n",
        "\n",
        "  train_loss(loss)\n",
        "  train_accuracy(labels, predictions)"
      ],
      "metadata": {
        "id": "4OBxolgU4cez"
      },
      "execution_count": null,
      "outputs": []
    },
    {
      "cell_type": "code",
      "source": [
        "@tf.function\n",
        "def test_step(images, labels):\n",
        "  # training=False is only needed if there are layers with different\n",
        "  # behavior during training versus inference (e.g. Dropout).\n",
        "  predictions = classifier(images, training=False)\n",
        "  t_loss = loss_object(labels, predictions)\n",
        "\n",
        "  test_loss(t_loss)\n",
        "  test_accuracy(labels, predictions)"
      ],
      "metadata": {
        "id": "qiiMS4sI4ckV"
      },
      "execution_count": null,
      "outputs": []
    },
    {
      "cell_type": "code",
      "source": [
        "EPOCHS = 5\n",
        "\n",
        "for epoch in range(EPOCHS):\n",
        "  # Reset the metrics at the start of the next epoch\n",
        "  train_loss.reset_states()\n",
        "  train_accuracy.reset_states()\n",
        "  test_loss.reset_states()\n",
        "  test_accuracy.reset_states()\n",
        "\n",
        "  for images, labels in train_ds:\n",
        "    train_step(images, labels)\n",
        "\n",
        "  for test_images, test_labels in test_ds:\n",
        "    test_step(test_images, test_labels)\n",
        "\n",
        "  print(\n",
        "    f'Epoch {epoch + 1}, '\n",
        "    f'Loss: {train_loss.result()}, '\n",
        "    f'Accuracy: {train_accuracy.result() * 100}, '\n",
        "    f'Test Loss: {test_loss.result()}, '\n",
        "    f'Test Accuracy: {test_accuracy.result() * 100}'\n",
        "  )"
      ],
      "metadata": {
        "id": "KXJFnvLL4gb2",
        "colab": {
          "base_uri": "https://localhost:8080/"
        },
        "outputId": "5d070507-4cb8-4306-d3fa-78b4f40d2945"
      },
      "execution_count": null,
      "outputs": [
        {
          "output_type": "stream",
          "name": "stdout",
          "text": [
            "Epoch 1, Loss: 0.13785535097122192, Accuracy: 95.82666778564453, Test Loss: 0.0667387843132019, Test Accuracy: 97.91999816894531\n",
            "Epoch 2, Loss: 0.04667611047625542, Accuracy: 98.51333618164062, Test Loss: 0.0518634095788002, Test Accuracy: 98.2699966430664\n",
            "Epoch 3, Loss: 0.024410484358668327, Accuracy: 99.23833465576172, Test Loss: 0.06407970935106277, Test Accuracy: 98.07999420166016\n",
            "Epoch 4, Loss: 0.015367086045444012, Accuracy: 99.50333404541016, Test Loss: 0.055316176265478134, Test Accuracy: 98.43000030517578\n",
            "Epoch 5, Loss: 0.010461768135428429, Accuracy: 99.63166809082031, Test Loss: 0.05413881689310074, Test Accuracy: 98.61000061035156\n"
          ]
        }
      ]
    },
    {
      "cell_type": "code",
      "source": [
        "classifier.save_weights('checkpoint_2')"
      ],
      "metadata": {
        "id": "m0D-WCYlBNYR"
      },
      "execution_count": null,
      "outputs": []
    },
    {
      "cell_type": "code",
      "source": [
        "# ----Classifier network---- training completed here"
      ],
      "metadata": {
        "id": "g1AhcTi3cxrv"
      },
      "execution_count": null,
      "outputs": []
    },
    {
      "cell_type": "code",
      "source": [
        "# begin setting up evaluation data for striding \n",
        "\n",
        "import os\n",
        "import random\n",
        "import numpy as np\n",
        "import tensorflow as tf\n",
        "import scipy.io as spio\n",
        "from tqdm import trange\n",
        "from matplotlib import cm\n",
        "from keras.utils import np_utils\n",
        "from matplotlib import pyplot\n",
        "from google.colab.patches import cv2_imshow\n"
      ],
      "metadata": {
        "id": "uBPI3LfadlWm"
      },
      "execution_count": null,
      "outputs": []
    },
    {
      "cell_type": "code",
      "source": [
        "#Functions to convert .mat file to image arrays (Source:Github)\n",
        "def loadmat(filename):\n",
        "    '''\n",
        "    this function should be called instead of direct spio.loadmat\n",
        "    as it cures the problem of not properly recovering python dictionaries\n",
        "    from mat files. It calls the function check keys to cure all entries\n",
        "    which are still mat-objects\n",
        "    '''\n",
        "    data = spio.loadmat(filename, struct_as_record=False, squeeze_me=True)\n",
        "    return _check_keys(data)\n",
        "\n",
        "\n",
        "def _check_keys(dict):\n",
        "    '''\n",
        "    checks if entries in dictionary are mat-objects. If yes\n",
        "    todict is called to change them to nested dictionaries\n",
        "    '''\n",
        "    for key in dict:\n",
        "        if isinstance(dict[key], spio.matlab.mio5_params.mat_struct):\n",
        "            dict[key] = _todict(dict[key])\n",
        "    return dict        \n",
        "\n",
        "\n",
        "def _todict(matobj):\n",
        "    #A recursive function which constructs from matobjects nested dictionaries\n",
        "    dict = {}\n",
        "    for strg in matobj._fieldnames:\n",
        "        elem = matobj.__dict__[strg]\n",
        "        if isinstance(elem, spio.matlab.mio5_params.mat_struct):\n",
        "            dict[strg] = _todict(elem)\n",
        "        else:\n",
        "            dict[strg] = elem\n",
        "    return dict\n",
        "\n",
        "def visualization(vector, vector_name):\n",
        "    y = np.reshape(vector, (40, 40))\n",
        "    plt.imshow(y, cmap=cm.Greys_r)\n",
        "    plt.suptitle(vector_name)\n",
        "    plt.axis('off')\n",
        "    plt.pause(0.0001)\n",
        "    plt.show()"
      ],
      "metadata": {
        "id": "MM1X2DwAdxwV"
      },
      "execution_count": null,
      "outputs": []
    },
    {
      "cell_type": "code",
      "source": [
        "from google.colab import drive\n",
        "drive.mount('/content/drive')"
      ],
      "metadata": {
        "id": "oc66tjiROhnZ",
        "colab": {
          "base_uri": "https://localhost:8080/"
        },
        "outputId": "1e486ff8-86a7-49b4-f62f-983ad124e228"
      },
      "execution_count": null,
      "outputs": [
        {
          "output_type": "stream",
          "name": "stdout",
          "text": [
            "Mounted at /content/drive\n"
          ]
        }
      ]
    },
    {
      "cell_type": "code",
      "source": [
        "#Define number of classes\n",
        "nb_classes = 10\n",
        "\n",
        "#Load .mat data\n",
        "dataset = loadmat(\"/content/drive/My Drive/training_and_validation_batches/1.mat\")\n",
        "\n",
        "#Extract image array and the corresponding label   \n",
        "y_val = dataset['affNISTdata']['label_int']\n",
        "X_val = dataset['affNISTdata']['image'].transpose()\n",
        "\n",
        "#Reshape and preprocess label\n",
        "X_val = X_val.reshape(60000, 40, 40)\n",
        "X_val = X_val.astype(\"float64\")\n",
        "y_val = np_utils.to_categorical(y_val, nb_classes)\n",
        "\n",
        "#Save Files in .npy format\n",
        "np.save(\"/content/drive/My Drive/Colab Notebooks/Completed/affNIST_X_val\", X_val)\n",
        "np.save(\"/content/drive/My Drive/Colab Notebooks/Completed/affNIST_y_val\", y_val)\n"
      ],
      "metadata": {
        "id": "oHfktkuydyXF"
      },
      "execution_count": null,
      "outputs": []
    },
    {
      "cell_type": "code",
      "source": [
        "# Checking how the imported data looks\n",
        "\n",
        "#plt.figure(figsize=(10,10))\n",
        "#for i in range(100):\n",
        "#    plt.subplot(10,10,i+1)\n",
        "#    plt.xticks([])\n",
        "#    plt.yticks([])\n",
        "#    plt.grid(False)\n",
        "#    plt.imshow(X_val[i], cmap=plt.cm.binary)\n",
        "#    plt.xlabel(y_val[i])\n",
        "#plt.show()"
      ],
      "metadata": {
        "id": "OhmXdMRejwwR"
      },
      "execution_count": null,
      "outputs": []
    },
    {
      "cell_type": "code",
      "source": [
        "X_val = np.resize(X_val, (60000, 40, 40))"
      ],
      "metadata": {
        "id": "8VIAr2pMG7vm"
      },
      "execution_count": null,
      "outputs": []
    },
    {
      "cell_type": "code",
      "source": [
        "# small strider returns array of all strided images of a given index of X_val\n",
        "def s_strider(j):\n",
        "    s_list = []\n",
        "    coord = []\n",
        "    strides = np.empty((144, 28, 28)) # first index is number of total strides\n",
        "    for x in range(0,12,1): # 3rd index is step size of strides\n",
        "        for y in range(0,12,1):\n",
        "            s = X_val[j][x:x+28,y:y+28]\n",
        "            #plt.figure()\n",
        "            #plt.imshow(s, cmap = plt.cm.binary)\n",
        "            s_list.append(s)\n",
        "            coord.append([x,y])\n",
        "    for i in range(144):\n",
        "        if strides[i].shape == s_list[i].shape:\n",
        "            strides[i] = s_list[i]\n",
        "        else:\n",
        "            break\n",
        "    strides = np.resize(strides, (144, 28, 28, 1))\n",
        "    #return s_list\n",
        "    return strides"
      ],
      "metadata": {
        "id": "KTJSN7sYG74Q"
      },
      "execution_count": null,
      "outputs": []
    },
    {
      "cell_type": "code",
      "source": [
        "# set up predictions from the filter network\n",
        "f_probability_model = tf.keras.Sequential([filter, \n",
        "                                         tf.keras.layers.Softmax()])\n",
        "# can change the number for strider() based on index in X_val to check\n",
        "s = s_strider(1600) \n",
        "stride_filter_predictions = f_probability_model.predict(s)    \n",
        "#print(np.argmax(stride_filter_predictions))      \n",
        "\n",
        "s_predict = []\n",
        "\n",
        "# manually display output of striding\n",
        "s = np.resize(s, (144, 28, 28))\n",
        "\n",
        "import statistics\n",
        "b = 0\n",
        "results = []\n",
        "for i in range(0,144):\n",
        "    s_predict.append(np.max(stride_filter_predictions))\n",
        "    if np.argmax(stride_filter_predictions[i]) == 2:\n",
        "        results.append(i)\n",
        "        #b = i\n",
        "        #plt.figure()\n",
        "        #plt.imshow(s[b], cmap = plt.cm.binary)\n",
        "        #print(b)    \n",
        "\n",
        "#if len(results) > 20:\n",
        "#    b = results[1]\n",
        "#else:\n",
        "#    b = results[-2]\n",
        "b = int(statistics.median(results))\n",
        "plt.figure()\n",
        "plt.imshow(s[b], cmap = plt.cm.binary)\n",
        "#print(b)    \n"
      ],
      "metadata": {
        "colab": {
          "base_uri": "https://localhost:8080/",
          "height": 282
        },
        "id": "s98WSV2pHK8O",
        "outputId": "5a9638d6-b06a-44a5-f545-278c54e401d6"
      },
      "execution_count": null,
      "outputs": [
        {
          "output_type": "execute_result",
          "data": {
            "text/plain": [
              "<matplotlib.image.AxesImage at 0x7f6bd9b9c0d0>"
            ]
          },
          "metadata": {},
          "execution_count": 561
        },
        {
          "output_type": "display_data",
          "data": {
            "text/plain": [
              "<Figure size 432x288 with 1 Axes>"
            ],
            "image/png": "[encoded data removed]"
          },
          "metadata": {
            "needs_background": "light"
          }
        }
      ]
    },
    {
      "cell_type": "code",
      "source": [
        "# identify 1-10 the cropped digits\n",
        "# set up predictions from the classifier network\n",
        "c_probability_model = tf.keras.Sequential([classifier, \n",
        "                                         tf.keras.layers.Softmax()]) \n",
        "s = np.resize(s, (144, 28, 28, 1))\n",
        "stride_classifier_predictions = c_probability_model.predict(s)      \n",
        "print(\"The digit above is : \", np.argmax(stride_classifier_predictions))\n",
        "#print(stride_classifier_predictions[b])"
      ],
      "metadata": {
        "id": "xL4WRos7dpPN",
        "colab": {
          "base_uri": "https://localhost:8080/"
        },
        "outputId": "b9a83fc5-e28b-4264-bfad-ff1a8edc2984"
      },
      "execution_count": null,
      "outputs": [
        {
          "output_type": "stream",
          "name": "stdout",
          "text": [
            "The digit above is :  5\n"
          ]
        }
      ]
    },
    {
      "cell_type": "code",
      "source": [
        "# evaluations of 256x256 images begin here --------"
      ],
      "metadata": {
        "id": "Qf1Tt_kcn8vn"
      },
      "execution_count": null,
      "outputs": []
    },
    {
      "cell_type": "code",
      "source": [
        "X_val = np.resize(X_val, (60000, 40, 40, 1))\n",
        "\n",
        "# make 256x256 image\n",
        "# i am making them 1 at a timebecause session crashes from too much RAM useage otherwise\n",
        "large_x = np.zeros((1,256,256,1))\n",
        "\n",
        "# place an index of X_val randomly somewhere in 256x256 image\n",
        "x = random.randrange(216)\n",
        "# print (x, y)\n",
        "y = random.randrange(216)\n",
        "large_x[0][x:x+X_val.shape[1], y:y+X_val.shape[2]] = X_val[888] # can change index of X_val"
      ],
      "metadata": {
        "id": "yoynIGT3fwmE"
      },
      "execution_count": null,
      "outputs": []
    },
    {
      "cell_type": "code",
      "source": [
        "# display 256x256 sized figure\n",
        "large_x = np.resize(large_x, (1, 256, 256))\n",
        "plt.figure()\n",
        "plt.imshow(large_x[0], cmap = plt.cm.binary)\n"
      ],
      "metadata": {
        "colab": {
          "base_uri": "https://localhost:8080/",
          "height": 286
        },
        "id": "cGSqnnNzFCLl",
        "outputId": "567bf405-fe9a-4b4f-8e45-7a80871b5cc4"
      },
      "execution_count": null,
      "outputs": [
        {
          "output_type": "execute_result",
          "data": {
            "text/plain": [
              "<matplotlib.image.AxesImage at 0x7f6bd7b6dd50>"
            ]
          },
          "metadata": {},
          "execution_count": 604
        },
        {
          "output_type": "display_data",
          "data": {
            "text/plain": [
              "<Figure size 432x288 with 1 Axes>"
            ],
            "image/png": "[encoded data removed]"
          },
          "metadata": {
            "needs_background": "light"
          }
        }
      ]
    },
    {
      "cell_type": "code",
      "source": [
        "# large strider returns array of all strided images of a given index of X_val\n",
        "def l_strider(j):\n",
        "    s_list = []\n",
        "    coord = []\n",
        "    strides = np.empty((3249, 28, 28)) # first index is number of total strides\n",
        "    for x in range(0,228,4): # 3rd index is step size of strides\n",
        "        for y in range(0,228,4):\n",
        "            s = large_x[0][x:x+28,y:y+28]\n",
        "            #plt.figure()\n",
        "            #plt.imshow(s, cmap = plt.cm.binary)\n",
        "            s_list.append(s)\n",
        "            coord.append([x,y])\n",
        "    for i in range(3249):\n",
        "        if strides[i].shape == s_list[i].shape:\n",
        "            strides[i] = s_list[i]\n",
        "        else:\n",
        "            break\n",
        "    strides = np.resize(strides, (3249, 28, 28, 1))\n",
        "    #return s_list\n",
        "\n",
        "    return strides"
      ],
      "metadata": {
        "id": "WNBIN2Go5E3k"
      },
      "execution_count": null,
      "outputs": []
    },
    {
      "cell_type": "code",
      "source": [
        "import statistics"
      ],
      "metadata": {
        "id": "PbEclDlto9Mp"
      },
      "execution_count": null,
      "outputs": []
    },
    {
      "cell_type": "code",
      "source": [
        "# set up predictions from the filter network\n",
        "f_probability_model = tf.keras.Sequential([filter, \n",
        "                                         tf.keras.layers.Softmax()])\n",
        "# can change the number for strider() based on index in X_val to check\n",
        "l_s = l_strider(12)\n",
        "l_stride_filter_predictions = f_probability_model.predict(l_s)          \n",
        "\n",
        "# manually display output of striding\n",
        "l_s = np.resize(l_s, (3249, 28, 28))\n",
        "\n",
        "# find which strided boxes have predictions correspond to class 2 (digit only)\n",
        "b2 = 0\n",
        "results2 = []\n",
        "for i in range(0,3249):\n",
        "    if np.argmax(l_stride_filter_predictions[i]) == 2:\n",
        "        results2.append(i)\n",
        "        #b = i\n",
        "        #plt.figure()\n",
        "        #plt.imshow(l_s[b2], cmap = plt.cm.binary)\n",
        "        #print(b2)    \n",
        "\n",
        "# i take the median of predictions in case there are multiple boxes corresponding to digit- generally the image will be centered this way\n",
        "b2 = int(statistics.median(results2))\n",
        "# manual check \n",
        "l_s = np.resize(l_s, (3249, 28, 28))\n",
        "plt.figure()\n",
        "plt.imshow(l_s[b2], cmap = plt.cm.binary)\n",
        "print(b2)"
      ],
      "metadata": {
        "id": "VBea4Sfdm7PB",
        "colab": {
          "base_uri": "https://localhost:8080/",
          "height": 282
        },
        "outputId": "01fb2c09-fe34-43c8-9a6f-f7c2c5234af9"
      },
      "execution_count": null,
      "outputs": [
        {
          "output_type": "stream",
          "name": "stdout",
          "text": [
            "130\n"
          ]
        },
        {
          "output_type": "display_data",
          "data": {
            "text/plain": [
              "<Figure size 432x288 with 1 Axes>"
            ],
            "image/png": "[encoded data removed]"
          },
          "metadata": {
            "needs_background": "light"
          }
        }
      ]
    },
    {
      "cell_type": "code",
      "source": [
        "# identify 1-10 the cropped digits\n",
        "\n",
        "# set up predictions from the classifier network\n",
        "#c2_probability_model = tf.keras.Sequential([classifier, \n",
        "#                                         tf.keras.layers.Softmax()]) \n",
        "l_s = np.resize(l_s, (3249, 28, 28, 1))\n",
        "stride2_classifier_predictions = c_probability_model.predict(l_s)      \n",
        "print(\"The digit above is : \", np.argmax(stride2_classifier_predictions[b2]))\n"
      ],
      "metadata": {
        "colab": {
          "base_uri": "https://localhost:8080/"
        },
        "id": "7imu7KR5jX5T",
        "outputId": "1767201a-44bf-4a72-e5e9-623e52649e3b"
      },
      "execution_count": null,
      "outputs": [
        {
          "output_type": "stream",
          "name": "stdout",
          "text": [
            "The digit above is :  6\n"
          ]
        }
      ]
    },
    {
      "cell_type": "code",
      "source": [
        "# list with same structure as the strider loops to help find coordinates based on the output index\n",
        "a = []\n",
        "for x in range(0,228,4):\n",
        "    for y in range(0,228,4):\n",
        "        s = X_val[2][x:x+28,y:y+28]\n",
        "        a.append((x,y))\n",
        "\n",
        "# len(a)\n",
        "# a[b2]\n"
      ],
      "metadata": {
        "id": "aKbX4UmUScW0"
      },
      "execution_count": null,
      "outputs": []
    },
    {
      "cell_type": "code",
      "source": [
        "# draw box around figure\n",
        "from google.colab.patches import cv2_imshow\n",
        "# initiates blank array every time so that rectangles aren't drawn directly on the data and so that drawings can be reset each time\n",
        "drawing = np.empty((1, 256, 256))\n",
        "# draw bounding rectangle based on coordinates found in list a\n",
        "drawing[0] = large_x[0] \n",
        "image = drawing[0]\n",
        "start_point = (a[b2][1],a[b2][0])\n",
        "end_point = (a[b2][1]+28, a[b2][0]+28)\n",
        "color = (255, 0, 0)\n",
        "thickness = 2\n",
        "image = cv2.rectangle(image, start_point, end_point, color, thickness)\n",
        "cv2_imshow(image) \n"
      ],
      "metadata": {
        "colab": {
          "base_uri": "https://localhost:8080/",
          "height": 273
        },
        "id": "pCS26U_GUtMh",
        "outputId": "b281c7b8-6245-4a0c-bd4f-6110505ee673"
      },
      "execution_count": null,
      "outputs": [
        {
          "output_type": "display_data",
          "data": {
            "text/plain": [
              "<PIL.Image.Image image mode=L size=256x256 at 0x7F6BD9511FD0>"
            ],
            "image/png": "[encoded data removed]"
          },
          "metadata": {}
        }
      ]
    }
  ]
}