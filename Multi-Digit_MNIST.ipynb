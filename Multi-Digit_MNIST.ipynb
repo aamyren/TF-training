{
  "cells": [
    {
      "cell_type": "markdown",
      "metadata": {
        "id": "view-in-github",
        "colab_type": "text"
      },
      "source": [
        "<a href=\"https://colab.research.google.com/github/aamyren/TF-training/blob/main/Multi-Digit_MNIST.ipynb\" target=\"_parent\"><img src=\"https://colab.research.google.com/assets/colab-badge.svg\" alt=\"Open In Colab\"/></a>"
      ]
    },
    {
      "cell_type": "code",
      "execution_count": null,
      "metadata": {
        "colab": {
          "base_uri": "https://localhost:8080/"
        },
        "id": "FgF33dJqpglF",
        "outputId": "15e79bd3-58a9-41f4-a608-ce1a887e622f"
      },
      "outputs": [
        {
          "output_type": "stream",
          "name": "stdout",
          "text": [
            "TensorFlow version: 2.8.2\n"
          ]
        }
      ],
      "source": [
        "import tensorflow as tf\n",
        "print(\"TensorFlow version:\", tf.__version__)\n",
        "\n",
        "from tensorflow.keras.layers import Dense, Flatten, Conv2D\n",
        "from tensorflow.keras import Model"
      ]
    },
    {
      "cell_type": "code",
      "execution_count": null,
      "metadata": {
        "id": "SE4WN3YK7ALu"
      },
      "outputs": [],
      "source": [
        "# helper libraries\n",
        "import numpy as np\n",
        "import matplotlib.pyplot as plt\n",
        "import random\n",
        "import cv2"
      ]
    },
    {
      "cell_type": "code",
      "execution_count": null,
      "metadata": {
        "id": "nUJG9UScp_nz",
        "colab": {
          "base_uri": "https://localhost:8080/"
        },
        "outputId": "8e481b2e-753f-4f04-a57b-915f62fadd77"
      },
      "outputs": [
        {
          "output_type": "stream",
          "name": "stdout",
          "text": [
            "Downloading data from https://storage.googleapis.com/tensorflow/tf-keras-datasets/mnist.npz\n",
            "11493376/11490434 [==============================] - 0s 0us/step\n",
            "11501568/11490434 [==============================] - 0s 0us/step\n"
          ]
        }
      ],
      "source": [
        "mnist = tf.keras.datasets.mnist\n",
        "\n",
        "(x_train, y_train), (x_test, y_test) = mnist.load_data()\n",
        "x_train, x_test = x_train / 255.0, x_test / 255.0\n",
        "\n",
        "# Add a channels dimension\n",
        "x_train = x_train[..., tf.newaxis].astype(\"float32\")\n",
        "x_test = x_test[..., tf.newaxis].astype(\"float32\")\n"
      ]
    },
    {
      "cell_type": "code",
      "source": [
        "# x_train.shape"
      ],
      "metadata": {
        "id": "U3Lh90kBREKV"
      },
      "execution_count": null,
      "outputs": []
    },
    {
      "cell_type": "code",
      "source": [
        "# function to combine two indexes of data in each list\n",
        "def combine(xdata, ydata, a, b):\n",
        "    ny = int(10*ydata[a] + ydata[b])\n",
        "    nx = np.hstack((xdata[a],xdata[b]))\n",
        "    nx = nx[:, ::2]\n",
        "    # print(ny)\n",
        "    return nx, ny"
      ],
      "metadata": {
        "id": "AOPV0VIhR2ih"
      },
      "execution_count": null,
      "outputs": []
    },
    {
      "cell_type": "code",
      "source": [
        "# creates list of random indexes a certain length to combine\n",
        "def randlist(size):\n",
        "    rlist = list(range(size))\n",
        "    random.shuffle(rlist)\n",
        "    return rlist"
      ],
      "metadata": {
        "id": "jZAOCdQ_eK91"
      },
      "execution_count": null,
      "outputs": []
    },
    {
      "cell_type": "code",
      "source": [
        "# y_test.shape"
      ],
      "metadata": {
        "id": "_6JywFz8GlO_"
      },
      "execution_count": null,
      "outputs": []
    },
    {
      "cell_type": "code",
      "source": [
        "# make a new set of test cases for double digits\n",
        "nx_test = np.empty((10000, 28, 28, 1))\n",
        "ny_test = np.empty(10000)\n",
        "\n",
        "a = randlist(10000)\n",
        "for i in range(0, 10000):\n",
        "    x, y = combine(x_test, y_test, a[i], a[i-1])\n",
        "    ny_test[i] = y \n",
        "    nx_test[i] = x\n",
        "\n",
        "#print(ny_test)\n",
        "\n",
        "# also make a new set of training data for double digits\n",
        "nx_train = np.empty((60000, 28, 28, 1))\n",
        "ny_train = np.empty(60000)\n",
        "\n",
        "a = randlist(60000)\n",
        "for i in range(0, 60000):\n",
        "    x, y = combine(x_train, y_train, a[i], a[i-1])\n",
        "    ny_train[i] = y \n",
        "    nx_train[i] = x\n",
        "\n",
        "#print(ny_test)"
      ],
      "metadata": {
        "id": "rR--bIMu7ji5"
      },
      "execution_count": null,
      "outputs": []
    },
    {
      "cell_type": "code",
      "execution_count": null,
      "metadata": {
        "id": "o7UDve9zqyFn"
      },
      "outputs": [],
      "source": [
        "train_ds = tf.data.Dataset.from_tensor_slices(\n",
        "    (nx_train, ny_train)).shuffle(10000).batch(32)\n",
        "\n",
        "test_ds = tf.data.Dataset.from_tensor_slices((nx_test, ny_test)).batch(32)"
      ]
    },
    {
      "cell_type": "code",
      "execution_count": null,
      "metadata": {
        "id": "gXqHdsO9rMxq"
      },
      "outputs": [],
      "source": [
        "# set up neural network\n",
        "\n",
        "class MyModel(Model):\n",
        "  def __init__(self):\n",
        "    super(MyModel, self).__init__()\n",
        "    self.conv1 = Conv2D(32, 3, activation='relu')\n",
        "    self.flatten = Flatten()\n",
        "    self.d1 = Dense(128, activation='relu')\n",
        "    self.d2 = Dense(100)\n",
        "\n",
        "  def call(self, x):\n",
        "    x = self.conv1(x)\n",
        "    x = self.flatten(x)\n",
        "    x = self.d1(x)\n",
        "    return self.d2(x)\n",
        "\n",
        "# Create an instance of the model\n",
        "model = MyModel()"
      ]
    },
    {
      "cell_type": "code",
      "source": [
        "model.compile(optimizer='adam',\n",
        "              loss=tf.keras.losses.SparseCategoricalCrossentropy(from_logits=True),\n",
        "              metrics=['accuracy'])"
      ],
      "metadata": {
        "id": "eykj2rAmdlBH"
      },
      "execution_count": null,
      "outputs": []
    },
    {
      "cell_type": "code",
      "execution_count": null,
      "metadata": {
        "id": "p8vB27XrsKeM"
      },
      "outputs": [],
      "source": [
        "loss_object = tf.keras.losses.SparseCategoricalCrossentropy(from_logits=True)\n",
        "\n",
        "optimizer = tf.keras.optimizers.Adam()"
      ]
    },
    {
      "cell_type": "code",
      "execution_count": null,
      "metadata": {
        "id": "-Vdz1lcusVfG"
      },
      "outputs": [],
      "source": [
        "train_loss = tf.keras.metrics.Mean(name='train_loss')\n",
        "train_accuracy = tf.keras.metrics.SparseCategoricalAccuracy(name='train_accuracy')\n",
        "\n",
        "test_loss = tf.keras.metrics.Mean(name='test_loss')\n",
        "test_accuracy = tf.keras.metrics.SparseCategoricalAccuracy(name='test_accuracy')"
      ]
    },
    {
      "cell_type": "code",
      "execution_count": null,
      "metadata": {
        "id": "44dVmgHvsq0F"
      },
      "outputs": [],
      "source": [
        "@tf.function\n",
        "def train_step(images, labels):\n",
        "  with tf.GradientTape() as tape:\n",
        "    # training=True is only needed if there are layers with different\n",
        "    # behavior during training versus inference (e.g. Dropout).\n",
        "    predictions = model(images, training=True)\n",
        "    loss = loss_object(labels, predictions)\n",
        "  gradients = tape.gradient(loss, model.trainable_variables)\n",
        "  optimizer.apply_gradients(zip(gradients, model.trainable_variables))\n",
        "\n",
        "  train_loss(loss)\n",
        "  train_accuracy(labels, predictions)"
      ]
    },
    {
      "cell_type": "code",
      "execution_count": null,
      "metadata": {
        "id": "95bv9CBntPqX"
      },
      "outputs": [],
      "source": [
        "@tf.function\n",
        "def test_step(images, labels):\n",
        "  # training=False is only needed if there are layers with different\n",
        "  # behavior during training versus inference (e.g. Dropout).\n",
        "  predictions = model(images, training=False)\n",
        "  t_loss = loss_object(labels, predictions)\n",
        "\n",
        "  test_loss(t_loss)\n",
        "  test_accuracy(labels, predictions)"
      ]
    },
    {
      "cell_type": "code",
      "execution_count": null,
      "metadata": {
        "id": "BSYuyfiktk43",
        "colab": {
          "base_uri": "https://localhost:8080/"
        },
        "outputId": "ba30d407-cafd-40bb-f0a8-cc3a498da374"
      },
      "outputs": [
        {
          "output_type": "stream",
          "name": "stdout",
          "text": [
            "Epoch 1, Loss: 0.7827661633491516, Accuracy: 78.00166320800781, Test Loss: 0.2938455045223236, Test Accuracy: 91.00999450683594\n",
            "Epoch 2, Loss: 0.2245214879512787, Accuracy: 93.12000274658203, Test Loss: 0.2225283533334732, Test Accuracy: 92.77999877929688\n",
            "Epoch 3, Loss: 0.1322445124387741, Accuracy: 95.87000274658203, Test Loss: 0.2153508961200714, Test Accuracy: 93.37000274658203\n",
            "Epoch 4, Loss: 0.08499730378389359, Accuracy: 97.25333404541016, Test Loss: 0.21937280893325806, Test Accuracy: 93.62000274658203\n",
            "Epoch 5, Loss: 0.05817937105894089, Accuracy: 98.07833099365234, Test Loss: 0.22062212228775024, Test Accuracy: 93.91000366210938\n"
          ]
        }
      ],
      "source": [
        "EPOCHS = 5\n",
        "\n",
        "for epoch in range(EPOCHS):\n",
        "  # Reset the metrics at the start of the next epoch\n",
        "  train_loss.reset_states()\n",
        "  train_accuracy.reset_states()\n",
        "  test_loss.reset_states()\n",
        "  test_accuracy.reset_states()\n",
        "\n",
        "  for images, labels in train_ds:\n",
        "    train_step(images, labels)\n",
        "\n",
        "  for test_images, test_labels in test_ds:\n",
        "    test_step(test_images, test_labels)\n",
        "\n",
        "  print(\n",
        "    f'Epoch {epoch + 1}, '\n",
        "    f'Loss: {train_loss.result()}, '\n",
        "    f'Accuracy: {train_accuracy.result() * 100}, '\n",
        "    f'Test Loss: {test_loss.result()}, '\n",
        "    f'Test Accuracy: {test_accuracy.result() * 100}'\n",
        "  )"
      ]
    },
    {
      "cell_type": "code",
      "source": [
        "# checking some training data how it looks\n",
        "nx_train = np.resize(nx_train, (60000, 28, 28))\n",
        "plt.figure()\n",
        "plt.imshow(nx_train[10000], cmap = plt.cm.binary)"
      ],
      "metadata": {
        "colab": {
          "base_uri": "https://localhost:8080/"
        },
        "id": "9ffa73JiMRfx",
        "outputId": "05217979-0b5e-4df4-bda0-4e2fbdfcd16f"
      },
      "execution_count": null,
      "outputs": [
        {
          "output_type": "execute_result",
          "data": {
            "text/plain": [
              "<matplotlib.image.AxesImage at 0x7fed1b94d0d0>"
            ]
          },
          "metadata": {},
          "execution_count": 19
        },
        {
          "output_type": "display_data",
          "data": {
            "text/plain": [
              "<Figure size 432x288 with 1 Axes>"
            ],
            "image/png": "[encoded data removed]"
          },
          "metadata": {
            "needs_background": "light"
          }
        }
      ]
    },
    {
      "cell_type": "code",
      "source": [
        "#nx_train.shape"
      ],
      "metadata": {
        "id": "RvZHfkckNkEW"
      },
      "execution_count": null,
      "outputs": []
    },
    {
      "cell_type": "code",
      "source": [
        "# more checking\n",
        "plt.figure(figsize=(10,10))\n",
        "for i in range(25):\n",
        "    plt.subplot(5,5,i+1)\n",
        "    plt.xticks([])\n",
        "    plt.yticks([])\n",
        "    plt.grid(False)\n",
        "    plt.imshow(nx_train[i], cmap=plt.cm.binary)\n",
        "    plt.xlabel(ny_train[i])\n",
        "plt.show()"
      ],
      "metadata": {
        "colab": {
          "base_uri": "https://localhost:8080/",
          "height": 589
        },
        "id": "tG2awJahN3Xj",
        "outputId": "afc278e4-bd74-4c4b-ab8a-8a97bf53a066"
      },
      "execution_count": null,
      "outputs": [
        {
          "output_type": "display_data",
          "data": {
            "text/plain": [
              "<Figure size 720x720 with 25 Axes>"
            ],
            "image/png": "[encoded data removed]"
          },
          "metadata": {}
        }
      ]
    },
    {
      "cell_type": "code",
      "source": [
        "# checking how test data looks\n",
        "nx_test = np.resize(nx_test, (60000, 28, 28))\n",
        "\n",
        "plt.figure(figsize=(10,10))\n",
        "for i in range(25):\n",
        "    plt.subplot(5,5,i+1)\n",
        "    plt.xticks([])\n",
        "    plt.yticks([])\n",
        "    plt.grid(False)\n",
        "    plt.imshow(nx_test[i], cmap=plt.cm.binary)\n",
        "    plt.xlabel(ny_test[i])\n",
        "plt.show()"
      ],
      "metadata": {
        "colab": {
          "base_uri": "https://localhost:8080/",
          "height": 589
        },
        "id": "5R3pZptMPQ5a",
        "outputId": "277308d1-c47f-43da-a1c9-8519d0a4504d"
      },
      "execution_count": null,
      "outputs": [
        {
          "output_type": "display_data",
          "data": {
            "text/plain": [
              "<Figure size 720x720 with 25 Axes>"
            ],
            "image/png": "[encoded data removed]"
          },
          "metadata": {}
        }
      ]
    },
    {
      "cell_type": "code",
      "source": [
        "# getting predictions\n",
        "nx_test = np.resize(nx_test, (60000, 28, 28, 1))\n",
        "probability_model = tf.keras.Sequential([model, \n",
        "                                         tf.keras.layers.Softmax()])\n",
        "predictions = probability_model.predict(nx_test)\n",
        "#predictions[0]"
      ],
      "metadata": {
        "id": "KthAmr1DSOOy"
      },
      "execution_count": null,
      "outputs": []
    },
    {
      "cell_type": "code",
      "source": [
        "# predictions.shape"
      ],
      "metadata": {
        "id": "XIYR_eCEg3g9"
      },
      "execution_count": null,
      "outputs": []
    },
    {
      "cell_type": "code",
      "source": [
        "# np.argmax(predictions[420])"
      ],
      "metadata": {
        "id": "dgwsknCufa_y"
      },
      "execution_count": null,
      "outputs": []
    },
    {
      "cell_type": "code",
      "source": [
        "# checking test data manually w/ predictions\n",
        "\n",
        "nx_test = np.resize(nx_test, (60000, 28, 28))\n",
        "plt.figure()\n",
        "plt.imshow(nx_test[444], cmap = plt.cm.binary)\n",
        "print(np.argmax(predictions[444]))"
      ],
      "metadata": {
        "colab": {
          "base_uri": "https://localhost:8080/"
        },
        "id": "Qg_UCXufflEo",
        "outputId": "64d3a759-e2e8-4d91-9899-684a69d207cb"
      },
      "execution_count": null,
      "outputs": [
        {
          "output_type": "stream",
          "name": "stdout",
          "text": [
            "18\n"
          ]
        },
        {
          "output_type": "display_data",
          "data": {
            "text/plain": [
              "<Figure size 432x288 with 1 Axes>"
            ],
            "image/png": "[encoded data removed]"
          },
          "metadata": {
            "needs_background": "light"
          }
        }
      ]
    }
  ],
  "metadata": {
    "colab": {
      "collapsed_sections": [],
      "provenance": [],
      "authorship_tag": "ABX9TyNQJVBSKfMeTlash3mXV/LJ",
      "include_colab_link": true
    },
    "kernelspec": {
      "display_name": "Python 3",
      "name": "python3"
    },
    "language_info": {
      "name": "python"
    }
  },
  "nbformat": 4,
  "nbformat_minor": 0
}